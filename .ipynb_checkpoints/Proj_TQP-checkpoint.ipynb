{
 "cells": [
  {
   "cell_type": "code",
   "execution_count": 9,
   "metadata": {},
   "outputs": [
    {
     "name": "stdout",
     "output_type": "stream",
     "text": [
      "Where would you rather visit?1\n",
      "What would you rather eat?1\n",
      "What would you rather wear?1\n",
      "What would you rather enjoy doing?1\n",
      "What would you rather like to see?1\n",
      "Which of these activities sound the most exciting?1\n",
      "Which climate are you most comfortable with?1\n",
      "What would you rather drink?1\n"
     ]
    }
   ],
   "source": [
    "class Cities:\n",
    "    weight = 0\n",
    "    def __init__(self, natural, man_made, intent, food, dress, drink, climate, activities, weight):\n",
    "        self.natural = natural\n",
    "        self.man_made = man_made\n",
    "        self.intent = intent\n",
    "        self.food = food\n",
    "        self.dress = dress\n",
    "        self.drink = drink\n",
    "        self.climate = climate\n",
    "        self.activities = activities \n",
    "        self.weight = weight\n",
    "    \n",
    "    def tally(self,ans):\n",
    "        if(self.natural == ans):\n",
    "            weight+=1\n",
    "    \n",
    "mumbai = Cities('City', 'Gateway of India', 'Party', 'VadaPav', 'Saree', 'Falooda', 'Tropical', 'Filmcity')\n",
    "q = [\"Where would you rather visit?\", \"What would you rather eat?\", \"What would you rather wear?\", \"What would you rather enjoy doing?\",\"What would you rather like to see?\",\"Which of these activities sound the most exciting?\", \"Which climate are you most comfortable with?\", \"What would you rather drink?\"]\n",
    "for i in q:\n",
    "    ans = input(i)\n",
    "    #insert options\n",
    "    \n",
    "    \n",
    "        "
   ]
  },
  {
   "cell_type": "code",
   "execution_count": null,
   "metadata": {},
   "outputs": [],
   "source": []
  }
 ],
 "metadata": {
  "kernelspec": {
   "display_name": "Python 3",
   "language": "python",
   "name": "python3"
  },
  "language_info": {
   "codemirror_mode": {
    "name": "ipython",
    "version": 3
   },
   "file_extension": ".py",
   "mimetype": "text/x-python",
   "name": "python",
   "nbconvert_exporter": "python",
   "pygments_lexer": "ipython3",
   "version": "3.7.4"
  }
 },
 "nbformat": 4,
 "nbformat_minor": 2
}
