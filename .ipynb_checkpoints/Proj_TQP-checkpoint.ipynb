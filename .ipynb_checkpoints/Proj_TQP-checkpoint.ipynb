{
 "cells": [
  {
   "cell_type": "code",
   "execution_count": 1,
   "metadata": {},
   "outputs": [
    {
     "ename": "TypeError",
     "evalue": "__init__() missing 1 required positional argument: 'weight'",
     "output_type": "error",
     "traceback": [
      "\u001b[0;31m---------------------------------------------------------------------------\u001b[0m",
      "\u001b[0;31mTypeError\u001b[0m                                 Traceback (most recent call last)",
      "\u001b[0;32m<ipython-input-1-c9fd930466fd>\u001b[0m in \u001b[0;36m<module>\u001b[0;34m\u001b[0m\n\u001b[1;32m     16\u001b[0m             \u001b[0mweight\u001b[0m\u001b[0;34m+=\u001b[0m\u001b[0;36m1\u001b[0m\u001b[0;34m\u001b[0m\u001b[0;34m\u001b[0m\u001b[0m\n\u001b[1;32m     17\u001b[0m \u001b[0;34m\u001b[0m\u001b[0m\n\u001b[0;32m---> 18\u001b[0;31m \u001b[0mmumbai\u001b[0m \u001b[0;34m=\u001b[0m \u001b[0mCities\u001b[0m\u001b[0;34m(\u001b[0m\u001b[0;34m'City'\u001b[0m\u001b[0;34m,\u001b[0m \u001b[0;34m'Gateway of India'\u001b[0m\u001b[0;34m,\u001b[0m \u001b[0;34m'Party'\u001b[0m\u001b[0;34m,\u001b[0m \u001b[0;34m'VadaPav'\u001b[0m\u001b[0;34m,\u001b[0m \u001b[0;34m'Saree'\u001b[0m\u001b[0;34m,\u001b[0m \u001b[0;34m'Falooda'\u001b[0m\u001b[0;34m,\u001b[0m \u001b[0;34m'Tropical'\u001b[0m\u001b[0;34m,\u001b[0m \u001b[0;34m'Filmcity'\u001b[0m\u001b[0;34m)\u001b[0m\u001b[0;34m\u001b[0m\u001b[0;34m\u001b[0m\u001b[0m\n\u001b[0m\u001b[1;32m     19\u001b[0m \u001b[0mq\u001b[0m \u001b[0;34m=\u001b[0m \u001b[0;34m[\u001b[0m\u001b[0;34m\"Where would you rather visit?\"\u001b[0m\u001b[0;34m,\u001b[0m \u001b[0;34m\"What would you rather eat?\"\u001b[0m\u001b[0;34m,\u001b[0m \u001b[0;34m\"What would you rather wear?\"\u001b[0m\u001b[0;34m,\u001b[0m \u001b[0;34m\"What would you rather enjoy doing?\"\u001b[0m\u001b[0;34m,\u001b[0m\u001b[0;34m\"What would you rather like to see?\"\u001b[0m\u001b[0;34m,\u001b[0m\u001b[0;34m\"Which of these activities sound the most exciting?\"\u001b[0m\u001b[0;34m,\u001b[0m \u001b[0;34m\"Which climate are you most comfortable with?\"\u001b[0m\u001b[0;34m,\u001b[0m \u001b[0;34m\"What would you rather drink?\"\u001b[0m\u001b[0;34m]\u001b[0m\u001b[0;34m\u001b[0m\u001b[0;34m\u001b[0m\u001b[0m\n\u001b[1;32m     20\u001b[0m \u001b[0;32mfor\u001b[0m \u001b[0mi\u001b[0m \u001b[0;32min\u001b[0m \u001b[0mq\u001b[0m\u001b[0;34m:\u001b[0m\u001b[0;34m\u001b[0m\u001b[0;34m\u001b[0m\u001b[0m\n",
      "\u001b[0;31mTypeError\u001b[0m: __init__() missing 1 required positional argument: 'weight'"
     ]
    }
   ],
   "source": [
    "class Cities:\n",
    "    \n",
    "    def __init__(self,name, natural, man_made, intent, food, dress, drink, climate, activities, vote):\n",
    "        self.name = name\n",
    "        self.natural = natural\n",
    "        self.man_made = man_made\n",
    "        self.intent = intent\n",
    "        self.food = food\n",
    "        self.dress = dress\n",
    "        self.drink = drink\n",
    "        self.climate = climate\n",
    "        self.activities = activities \n",
    "        self.vote = 0\n",
    "    \n",
    "    def inc_vote(self):\n",
    "        self.vote += 1\n",
    "\n",
    "NO_CITY = 1\n",
    "city = []\n",
    "for i in range(0, NO_CITY):\n",
    "    city[i] = Cities('City', 'Gateway of India', 'Party', 'VadaPav', 'Saree', 'Falooda', 'Tropical', 'Filmcity', 0)\n",
    "\n",
    "q = [\"Where would you rather visit?\", \"What would you rather eat?\", \"What would you rather wear?\", \"What would you rather enjoy doing?\",\"What would you rather like to see?\",\"Which of these activities sound the most exciting?\", \"Which climate are you most comfortable with?\", \"What would you rather drink?\"]\n",
    "for i in q:\n",
    "    ans = input(i)\n",
    "    #insert options\n",
    "    \n",
    "    \n",
    "        "
   ]
  },
  {
   "cell_type": "code",
   "execution_count": null,
   "metadata": {},
   "outputs": [],
   "source": []
  }
 ],
 "metadata": {
  "kernelspec": {
   "display_name": "Python 3",
   "language": "python",
   "name": "python3"
  },
  "language_info": {
   "codemirror_mode": {
    "name": "ipython",
    "version": 3
   },
   "file_extension": ".py",
   "mimetype": "text/x-python",
   "name": "python",
   "nbconvert_exporter": "python",
   "pygments_lexer": "ipython3",
   "version": "3.7.4"
  }
 },
 "nbformat": 4,
 "nbformat_minor": 2
}
